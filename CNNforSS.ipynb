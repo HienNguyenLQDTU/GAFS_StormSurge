{
  "nbformat": 4,
  "nbformat_minor": 0,
  "metadata": {
    "colab": {
      "provenance": []
    },
    "kernelspec": {
      "name": "python3",
      "display_name": "Python 3"
    },
    "language_info": {
      "name": "python"
    }
  },
  "cells": [
    {
      "cell_type": "code",
      "execution_count": null,
      "metadata": {
        "id": "ZS0wxFK5HeVU"
      },
      "outputs": [],
      "source": [
        "#!pip install keras-layer-normalization\n",
        "import numpy as np # linear algebra\n",
        "import pandas as pd # data processing, CSV file I/O (e.g. pd.read_csv)\n",
        "import matplotlib.pyplot as plt\n",
        "import seaborn as sns\n",
        "import keras\n",
        "from keras.models import Sequential\n",
        "from keras.layers import Dense, Dropout, Activation, Flatten\n",
        "from keras.layers import Conv2D, MaxPooling2D\n",
        "\n",
        "from keras import backend as K\n",
        "from scipy import stats\n",
        "from scipy.stats import pearsonr\n",
        "from keras.models import Sequential\n",
        "from keras.layers import Dense, Conv1D, Flatten\n",
        "\n",
        "import os\n",
        "# print(os.listdir(\"E:\\input\"))\n",
        "#df = pd.read_csv('5h_Sum.csv')5\n",
        "train = pd.read_csv('train_24h_10.csv')\n",
        "test = pd.read_csv('test_24h_10.csv')"
      ]
    },
    {
      "cell_type": "code",
      "source": [
        "from sklearn.model_selection import train_test_split\n",
        "#X_train, X_test, y_train, y_test = train_test_split(train.drop('storm_surge_predict', axis=1), train['storm_surge_predict'], test_size=0.3, random_state=101)\n",
        "X_train=train.drop('storm_surge_predict', axis=1)\n",
        "#X_train=X_train[['SSL', 'SLP', 'WS', 'LT', 'CAP', 'HWS','SS']] #5h CNN\n",
        "X_train=X_train[['SSL', 'SLP', 'WS', 'WD', 'LT', 'CAP','HWS', 'SS']] #5h\n",
        "#X_train=X_train[['SSL', 'SLP', 'WS', 'WD', 'LT', 'LG']] #12h\n",
        "#X_train=X_train[['SSL', 'WS', 'WD', 'LT', 'LG', 'HWS', 'SS']] #24h\n",
        "y_train=train['storm_surge_predict']\n",
        "#X_train=X_train[['SLP', 'DSLP', 'WS', 'LT', 'CAP', 'HWS', 'SS']]\n",
        "#X_train=X_train[['SLP', 'DSLP', 'WD', 'LT', 'CAP', 'HWS', 'SS']]\n",
        "#X_train=X_train[['SLP', 'WS', 'WD', 'LT', 'CAP', 'HWS', 'LG','SS']]\n",
        "#X_train=X_train[['SLP', 'WS','WD', 'LT', 'LG', 'HWS', 'SS']]\n",
        "X_test=test.drop('storm_surge_predict', axis=1)\n",
        "#X_test=X_test[['SSL', 'DSLP', 'WS', 'WD', 'LG', 'CAP', 'HWS','SS']]\n",
        "X_test=X_test[['SSL', 'SLP', 'WS', 'WD', 'LT', 'CAP','HWS', 'SS']]\n",
        "#X_test=X_test[['SSL', 'DSLP', 'WS', 'WD', 'LG', 'HWS', 'SS']]\n",
        "#X_test=X_test[['SSL', 'DSLP', 'WS', 'WD', 'LT', 'LG']]\n",
        "#X_test=X_test[['SSL', 'WS', 'WD', 'LT', 'LG', 'HWS', 'SS']]\n",
        "y_test=test['storm_surge_predict']\n",
        "\n",
        "#print(X_train.shape)"
      ],
      "metadata": {
        "id": "Tm_wnxozsDJB"
      },
      "execution_count": null,
      "outputs": []
    },
    {
      "cell_type": "code",
      "source": [
        "from sklearn.ensemble import GradientBoostingRegressor\n",
        "reg = GradientBoostingRegressor(random_state=0, learning_rate=0.085, n_estimators=35)\n",
        "reg.fit(X_train, y_train)\n"
      ],
      "metadata": {
        "colab": {
          "base_uri": "https://localhost:8080/",
          "height": 75
        },
        "id": "e6tZ_M4zVMM7",
        "outputId": "efd88a79-9646-4b76-87a9-c68fb82461bd"
      },
      "execution_count": null,
      "outputs": [
        {
          "output_type": "execute_result",
          "data": {
            "text/plain": [
              "GradientBoostingRegressor(learning_rate=0.085, n_estimators=35, random_state=0)"
            ],
            "text/html": [
              "<style>#sk-container-id-42 {color: black;background-color: white;}#sk-container-id-42 pre{padding: 0;}#sk-container-id-42 div.sk-toggleable {background-color: white;}#sk-container-id-42 label.sk-toggleable__label {cursor: pointer;display: block;width: 100%;margin-bottom: 0;padding: 0.3em;box-sizing: border-box;text-align: center;}#sk-container-id-42 label.sk-toggleable__label-arrow:before {content: \"▸\";float: left;margin-right: 0.25em;color: #696969;}#sk-container-id-42 label.sk-toggleable__label-arrow:hover:before {color: black;}#sk-container-id-42 div.sk-estimator:hover label.sk-toggleable__label-arrow:before {color: black;}#sk-container-id-42 div.sk-toggleable__content {max-height: 0;max-width: 0;overflow: hidden;text-align: left;background-color: #f0f8ff;}#sk-container-id-42 div.sk-toggleable__content pre {margin: 0.2em;color: black;border-radius: 0.25em;background-color: #f0f8ff;}#sk-container-id-42 input.sk-toggleable__control:checked~div.sk-toggleable__content {max-height: 200px;max-width: 100%;overflow: auto;}#sk-container-id-42 input.sk-toggleable__control:checked~label.sk-toggleable__label-arrow:before {content: \"▾\";}#sk-container-id-42 div.sk-estimator input.sk-toggleable__control:checked~label.sk-toggleable__label {background-color: #d4ebff;}#sk-container-id-42 div.sk-label input.sk-toggleable__control:checked~label.sk-toggleable__label {background-color: #d4ebff;}#sk-container-id-42 input.sk-hidden--visually {border: 0;clip: rect(1px 1px 1px 1px);clip: rect(1px, 1px, 1px, 1px);height: 1px;margin: -1px;overflow: hidden;padding: 0;position: absolute;width: 1px;}#sk-container-id-42 div.sk-estimator {font-family: monospace;background-color: #f0f8ff;border: 1px dotted black;border-radius: 0.25em;box-sizing: border-box;margin-bottom: 0.5em;}#sk-container-id-42 div.sk-estimator:hover {background-color: #d4ebff;}#sk-container-id-42 div.sk-parallel-item::after {content: \"\";width: 100%;border-bottom: 1px solid gray;flex-grow: 1;}#sk-container-id-42 div.sk-label:hover label.sk-toggleable__label {background-color: #d4ebff;}#sk-container-id-42 div.sk-serial::before {content: \"\";position: absolute;border-left: 1px solid gray;box-sizing: border-box;top: 0;bottom: 0;left: 50%;z-index: 0;}#sk-container-id-42 div.sk-serial {display: flex;flex-direction: column;align-items: center;background-color: white;padding-right: 0.2em;padding-left: 0.2em;position: relative;}#sk-container-id-42 div.sk-item {position: relative;z-index: 1;}#sk-container-id-42 div.sk-parallel {display: flex;align-items: stretch;justify-content: center;background-color: white;position: relative;}#sk-container-id-42 div.sk-item::before, #sk-container-id-42 div.sk-parallel-item::before {content: \"\";position: absolute;border-left: 1px solid gray;box-sizing: border-box;top: 0;bottom: 0;left: 50%;z-index: -1;}#sk-container-id-42 div.sk-parallel-item {display: flex;flex-direction: column;z-index: 1;position: relative;background-color: white;}#sk-container-id-42 div.sk-parallel-item:first-child::after {align-self: flex-end;width: 50%;}#sk-container-id-42 div.sk-parallel-item:last-child::after {align-self: flex-start;width: 50%;}#sk-container-id-42 div.sk-parallel-item:only-child::after {width: 0;}#sk-container-id-42 div.sk-dashed-wrapped {border: 1px dashed gray;margin: 0 0.4em 0.5em 0.4em;box-sizing: border-box;padding-bottom: 0.4em;background-color: white;}#sk-container-id-42 div.sk-label label {font-family: monospace;font-weight: bold;display: inline-block;line-height: 1.2em;}#sk-container-id-42 div.sk-label-container {text-align: center;}#sk-container-id-42 div.sk-container {/* jupyter's `normalize.less` sets `[hidden] { display: none; }` but bootstrap.min.css set `[hidden] { display: none !important; }` so we also need the `!important` here to be able to override the default hidden behavior on the sphinx rendered scikit-learn.org. See: https://github.com/scikit-learn/scikit-learn/issues/21755 */display: inline-block !important;position: relative;}#sk-container-id-42 div.sk-text-repr-fallback {display: none;}</style><div id=\"sk-container-id-42\" class=\"sk-top-container\"><div class=\"sk-text-repr-fallback\"><pre>GradientBoostingRegressor(learning_rate=0.085, n_estimators=35, random_state=0)</pre><b>In a Jupyter environment, please rerun this cell to show the HTML representation or trust the notebook. <br />On GitHub, the HTML representation is unable to render, please try loading this page with nbviewer.org.</b></div><div class=\"sk-container\" hidden><div class=\"sk-item\"><div class=\"sk-estimator sk-toggleable\"><input class=\"sk-toggleable__control sk-hidden--visually\" id=\"sk-estimator-id-42\" type=\"checkbox\" checked><label for=\"sk-estimator-id-42\" class=\"sk-toggleable__label sk-toggleable__label-arrow\">GradientBoostingRegressor</label><div class=\"sk-toggleable__content\"><pre>GradientBoostingRegressor(learning_rate=0.085, n_estimators=35, random_state=0)</pre></div></div></div></div></div>"
            ]
          },
          "metadata": {},
          "execution_count": 128
        }
      ]
    },
    {
      "cell_type": "code",
      "source": [
        "from sklearn.metrics import mean_squared_error,r2_score\n",
        "ypred = reg.predict(X_test)\n",
        "#print(reg.evaluate(X_train, y_train))\n",
        "print(\"MSE: %.4f\" % r2_score(y_test, ypred))\n",
        "output=pd.DataFrame({\"Survived\":ypred})\n",
        "output.to_csv('predictions5h_GBR_All.csv',index=False)"
      ],
      "metadata": {
        "colab": {
          "base_uri": "https://localhost:8080/"
        },
        "id": "5GpJfUHHVR9c",
        "outputId": "9735f14d-b51d-437e-9718-a52deae8763e"
      },
      "execution_count": null,
      "outputs": [
        {
          "output_type": "stream",
          "name": "stdout",
          "text": [
            "MSE: 0.9241\n"
          ]
        }
      ]
    },
    {
      "cell_type": "code",
      "source": [
        "#X_train = X_train.values.reshape(X_train.shape[0], X_train.shape[1], 1)\n",
        "model = Sequential()\n",
        "model.add(Conv1D(64, 2, activation=\"relu\", input_shape=(8, 1)))\n",
        "model.add(Flatten())\n",
        "model.add(Dense(224, activation=\"relu\"))\n",
        "model.add(Dense(86, activation=\"relu\"))\n",
        "model.add(Dense(50, activation=\"relu\"))\n",
        "model.add(Dense(44, activation=\"relu\"))\n",
        "model.add(Dense(32, activation=\"relu\"))\n",
        "model.add(Dense(24, activation=\"relu\"))\n",
        "model.add(Dense(16, activation=\"relu\"))\n",
        "model.add(Dense(12, activation=\"relu\"))\n",
        "model.add(Dense(8, activation=\"relu\"))\n",
        "model.add(Dense(1))\n",
        "model.compile(loss=\"mse\", optimizer=\"adam\")\n",
        "model.summary()"
      ],
      "metadata": {
        "colab": {
          "base_uri": "https://localhost:8080/"
        },
        "id": "621lt2VtHjEU",
        "outputId": "180fbf32-07be-40d0-f091-9866e6f55b96"
      },
      "execution_count": null,
      "outputs": [
        {
          "output_type": "stream",
          "name": "stdout",
          "text": [
            "Model: \"sequential_26\"\n",
            "_________________________________________________________________\n",
            " Layer (type)                Output Shape              Param #   \n",
            "=================================================================\n",
            " conv1d_23 (Conv1D)          (None, 7, 64)             192       \n",
            "                                                                 \n",
            " flatten_22 (Flatten)        (None, 448)               0         \n",
            "                                                                 \n",
            " dense_175 (Dense)           (None, 224)               100576    \n",
            "                                                                 \n",
            " dense_176 (Dense)           (None, 86)                19350     \n",
            "                                                                 \n",
            " dense_177 (Dense)           (None, 50)                4350      \n",
            "                                                                 \n",
            " dense_178 (Dense)           (None, 44)                2244      \n",
            "                                                                 \n",
            " dense_179 (Dense)           (None, 32)                1440      \n",
            "                                                                 \n",
            " dense_180 (Dense)           (None, 24)                792       \n",
            "                                                                 \n",
            " dense_181 (Dense)           (None, 16)                400       \n",
            "                                                                 \n",
            " dense_182 (Dense)           (None, 12)                204       \n",
            "                                                                 \n",
            " dense_183 (Dense)           (None, 8)                 104       \n",
            "                                                                 \n",
            " dense_184 (Dense)           (None, 1)                 9         \n",
            "                                                                 \n",
            "=================================================================\n",
            "Total params: 129661 (506.49 KB)\n",
            "Trainable params: 129661 (506.49 KB)\n",
            "Non-trainable params: 0 (0.00 Byte)\n",
            "_________________________________________________________________\n"
          ]
        }
      ]
    },
    {
      "cell_type": "code",
      "source": [
        "model = Sequential()\n",
        "#model.add(Dense(256, activation='relu', input_dim=366))\n",
        "model.add(Conv1D(64, 2, activation='relu', input_shape = (8, 1)))\n",
        "#model.add(Conv2D(128, (3, 3), activation='relu'))\n",
        "#model.add(Conv2D(64, (3, 3), init='uniform'))\n",
        "#model.add(MaxPooling2D(pool_size=(2, 2)))\n",
        "model.add(Dense(86, activation=\"relu\"))\n",
        "model.add(Dense(50, activation=\"relu\"))\n",
        "model.add(Dense(44, activation=\"relu\"))\n",
        "model.add(Flatten())\n",
        "model.add(Dense(512, activation='relu'))\n",
        "model.add(Dropout(0.1))\n",
        "model.add(Dense(256, activation='relu'))\n",
        "model.add(Dense(128, activation='relu'))\n",
        "model.add(Dense(64, activation='relu'))\n",
        "model.add(Dense(32, activation='relu'))\n",
        "model.add(Dense(16, activation='relu'))\n",
        "model.add(Dense(8, activation='relu'))\n",
        "model.add(Dense(1, activation='relu'))\n",
        "model.compile(loss='mean_squared_error', # one may use 'mean_absolute_error' as  mean_squared_error\n",
        "                  optimizer='adam'\n",
        "\n",
        "                 )\n",
        "model.summary()"
      ],
      "metadata": {
        "colab": {
          "base_uri": "https://localhost:8080/"
        },
        "id": "ewBZjQqCh1Ld",
        "outputId": "94ef6edc-309d-4130-cf98-f70ba845ff8c"
      },
      "execution_count": null,
      "outputs": [
        {
          "output_type": "stream",
          "name": "stdout",
          "text": [
            "Model: \"sequential_30\"\n",
            "_________________________________________________________________\n",
            " Layer (type)                Output Shape              Param #   \n",
            "=================================================================\n",
            " conv1d_27 (Conv1D)          (None, 7, 64)             192       \n",
            "                                                                 \n",
            " dense_213 (Dense)           (None, 7, 86)             5590      \n",
            "                                                                 \n",
            " dense_214 (Dense)           (None, 7, 50)             4350      \n",
            "                                                                 \n",
            " dense_215 (Dense)           (None, 7, 44)             2244      \n",
            "                                                                 \n",
            " flatten_26 (Flatten)        (None, 308)               0         \n",
            "                                                                 \n",
            " dense_216 (Dense)           (None, 512)               158208    \n",
            "                                                                 \n",
            " dropout_13 (Dropout)        (None, 512)               0         \n",
            "                                                                 \n",
            " dense_217 (Dense)           (None, 256)               131328    \n",
            "                                                                 \n",
            " dense_218 (Dense)           (None, 128)               32896     \n",
            "                                                                 \n",
            " dense_219 (Dense)           (None, 64)                8256      \n",
            "                                                                 \n",
            " dense_220 (Dense)           (None, 32)                2080      \n",
            "                                                                 \n",
            " dense_221 (Dense)           (None, 16)                528       \n",
            "                                                                 \n",
            " dense_222 (Dense)           (None, 8)                 136       \n",
            "                                                                 \n",
            " dense_223 (Dense)           (None, 1)                 9         \n",
            "                                                                 \n",
            "=================================================================\n",
            "Total params: 345817 (1.32 MB)\n",
            "Trainable params: 345817 (1.32 MB)\n",
            "Non-trainable params: 0 (0.00 Byte)\n",
            "_________________________________________________________________\n"
          ]
        }
      ]
    },
    {
      "cell_type": "code",
      "source": [
        "model = Sequential()\n",
        "model.add(Conv1D(32, 2, activation=\"relu\", input_shape=(8, 1)))\n",
        "model.add(Flatten())\n",
        "model.add(Dense(100, activation=\"relu\"))\n",
        "model.add(Dense(80, activation=\"relu\"))\n",
        "model.add(Dense(64, activation=\"relu\"))\n",
        "model.add(Dense(1))\n",
        "model.compile(loss=\"mse\", optimizer=\"adam\")"
      ],
      "metadata": {
        "id": "nsy8YcvesK6A"
      },
      "execution_count": null,
      "outputs": []
    },
    {
      "cell_type": "code",
      "source": [
        "model.fit(X_train, y_train, batch_size=10,epochs=200, verbose=0)\n"
      ],
      "metadata": {
        "colab": {
          "base_uri": "https://localhost:8080/"
        },
        "id": "52hrgFK8tw2_",
        "outputId": "bf757ca5-f1ec-43f6-db33-a316540841c5"
      },
      "execution_count": null,
      "outputs": [
        {
          "output_type": "execute_result",
          "data": {
            "text/plain": [
              "<keras.src.callbacks.History at 0x7af8a8bc4370>"
            ]
          },
          "metadata": {},
          "execution_count": 316
        }
      ]
    },
    {
      "cell_type": "code",
      "source": [
        "from sklearn.metrics import mean_squared_error, r2_score\n",
        "ypred = model.predict(X_test)\n",
        "#print(model.evaluate(X_train, y_train))\n",
        "print(\"MSE: %.4f\" % mean_squared_error(y_test, ypred))\n",
        "print(\"R2: %.4f\" % r2_score(y_test, ypred))\n",
        "#ypred\n",
        "output=pd.DataFrame({\"Survived\":ypred.flatten()})\n",
        "output.to_csv('predictions24h_CNN_Features.csv',index=False)\n",
        "#x_ax = range(len(ypred))\n",
        "#plt.scatter(x_ax, y_test, s=5, color=\"blue\", label=\"original\")\n",
        "#plt.plot(x_ax, ypred, lw=0.8, color=\"red\", label=\"predicted\")\n",
        "#plt.legend()\n",
        "#plt.show()"
      ],
      "metadata": {
        "colab": {
          "base_uri": "https://localhost:8080/"
        },
        "id": "nnU9xQ-LuzPH",
        "outputId": "ddc87c11-5455-43e3-a9eb-b036ab250b3f"
      },
      "execution_count": null,
      "outputs": [
        {
          "output_type": "stream",
          "name": "stdout",
          "text": [
            "5/5 [==============================] - 0s 3ms/step\n",
            "MSE: 0.0029\n",
            "R2: 0.8600\n"
          ]
        }
      ]
    }
  ]
}